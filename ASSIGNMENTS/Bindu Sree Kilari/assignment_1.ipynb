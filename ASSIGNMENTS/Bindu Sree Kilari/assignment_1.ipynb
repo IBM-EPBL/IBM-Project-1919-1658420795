{
  "nbformat": 4,
  "nbformat_minor": 0,
  "metadata": {
    "colab": {
      "provenance": []
    },
    "kernelspec": {
      "name": "python3",
      "display_name": "Python 3"
    },
    "language_info": {
      "name": "python"
    }
  },
  "cells": [
    {
      "cell_type": "code",
      "execution_count": 2,
      "metadata": {
        "colab": {
          "base_uri": "https://localhost:8080/"
        },
        "id": "SDBj6fh_M7DL",
        "outputId": "dcff1067-c56d-4e6d-e298-f60972210047"
      },
      "outputs": [
        {
          "output_type": "stream",
          "name": "stdout",
          "text": [
            "['Hi', 'there', 'Sam!']\n"
          ]
        }
      ],
      "source": [
        " #1. Split this string\n",
        " s= \"Hi there Sam!\"\n",
        " x=s.split()\n",
        "print(x)"
      ]
    },
    {
      "cell_type": "code",
      "source": [
        "#2. Use .format() to print the following string.\n",
        "#Output should be: The diameter of Earth is 12742 kilometers.\n",
        "planet = \"Earth\"\n",
        "diameter = 12742\n",
        "print(\"The diameter of {} is {}\".format(planet,diameter))"
      ],
      "metadata": {
        "colab": {
          "base_uri": "https://localhost:8080/"
        },
        "id": "Q_tXqaSnPVWR",
        "outputId": "0287fe1c-bb3d-40c7-c8ab-b3d986d7c043"
      },
      "execution_count": 3,
      "outputs": [
        {
          "output_type": "stream",
          "name": "stdout",
          "text": [
            "The diameter of Earth is 12742\n"
          ]
        }
      ]
    },
    {
      "cell_type": "code",
      "source": [
        "#3. In this nest dictionary grab the word \"hello\"\n",
        "d = {'k1':[1,2,3,{'tricky':['oh','man','inception',{'target':[1,2,3,'hello']}]}]}\n",
        "print(d['k1'][3]['tricky'][3]['target'][3])"
      ],
      "metadata": {
        "colab": {
          "base_uri": "https://localhost:8080/"
        },
        "id": "SrH-KY45P006",
        "outputId": "0353d8a6-2a93-4773-eebf-d8d54163e72a"
      },
      "execution_count": 4,
      "outputs": [
        {
          "output_type": "stream",
          "name": "stdout",
          "text": [
            "hello\n"
          ]
        }
      ]
    },
    {
      "cell_type": "code",
      "source": [
        "#Numpy\n",
        "import numpy as np"
      ],
      "metadata": {
        "id": "C3UbVhIOQCoP"
      },
      "execution_count": 5,
      "outputs": []
    },
    {
      "cell_type": "code",
      "source": [
        "#4.1 Create an array of 10 zeros?\n",
        "array=np.zeros(10)\n",
        "print(array)"
      ],
      "metadata": {
        "colab": {
          "base_uri": "https://localhost:8080/"
        },
        "id": "7SaUNceCQNYn",
        "outputId": "1994f067-5cc4-4beb-b24b-8fb53664d153"
      },
      "execution_count": 6,
      "outputs": [
        {
          "output_type": "stream",
          "name": "stdout",
          "text": [
            "[0. 0. 0. 0. 0. 0. 0. 0. 0. 0.]\n"
          ]
        }
      ]
    },
    {
      "cell_type": "code",
      "source": [
        "#4.2 Create an array of 10 fives?\n",
        "array1=np.ones(10)*5\n",
        "print(array1)"
      ],
      "metadata": {
        "colab": {
          "base_uri": "https://localhost:8080/"
        },
        "id": "-L6H6w46Qi6h",
        "outputId": "d1a84051-302e-40bd-b305-b1c35f7d2584"
      },
      "execution_count": 7,
      "outputs": [
        {
          "output_type": "stream",
          "name": "stdout",
          "text": [
            "[5. 5. 5. 5. 5. 5. 5. 5. 5. 5.]\n"
          ]
        }
      ]
    },
    {
      "cell_type": "code",
      "source": [
        "#5. Create an array of all the even integers from 20 to 35\n",
        "array=np.arange(20,36,2)\n",
        "print(\"Array of all the even integers from 20 to 35\")\n",
        "print(array)"
      ],
      "metadata": {
        "colab": {
          "base_uri": "https://localhost:8080/"
        },
        "id": "ODH4WssCQtxw",
        "outputId": "c3034530-2e73-4dbf-c8f2-2b7208cadb84"
      },
      "execution_count": 8,
      "outputs": [
        {
          "output_type": "stream",
          "name": "stdout",
          "text": [
            "Array of all the even integers from 20 to 35\n",
            "[20 22 24 26 28 30 32 34]\n"
          ]
        }
      ]
    },
    {
      "cell_type": "code",
      "source": [
        "#6. Create a 3x3 matrix with values ranging from 0 to 8\n",
        "x=np.arange(0,9).reshape(3,3)\n",
        "print(x)"
      ],
      "metadata": {
        "colab": {
          "base_uri": "https://localhost:8080/"
        },
        "id": "5_bqy77HQ1gU",
        "outputId": "21497766-b6f6-4340-8ad4-32dcec045682"
      },
      "execution_count": 9,
      "outputs": [
        {
          "output_type": "stream",
          "name": "stdout",
          "text": [
            "[[0 1 2]\n",
            " [3 4 5]\n",
            " [6 7 8]]\n"
          ]
        }
      ]
    },
    {
      "cell_type": "code",
      "source": [
        "#7. Concatinate a and b\n",
        "a=np.array([1, 2, 3])\n",
        "b=np.array([4, 5, 6])\n",
        "c=np.concatenate((a,b),axis=0)\n",
        "print(c)"
      ],
      "metadata": {
        "colab": {
          "base_uri": "https://localhost:8080/"
        },
        "id": "vKnhsUyQQ99k",
        "outputId": "e9a68114-d46e-4654-8bd3-ea9e18bf3245"
      },
      "execution_count": 10,
      "outputs": [
        {
          "output_type": "stream",
          "name": "stdout",
          "text": [
            "[1 2 3 4 5 6]\n"
          ]
        }
      ]
    },
    {
      "cell_type": "code",
      "source": [
        "#Pandas\n",
        "#8. Create a dataframe with 3 rows and 2 columns\n",
        "import pandas as pd\n",
        "data=[['prarthana',10],['prrapti',28],['aathish',6]]\n",
        "df=pd.DataFrame(data,columns=['name','age'])"
      ],
      "metadata": {
        "id": "uKrTmGbHRKnH"
      },
      "execution_count": 12,
      "outputs": []
    },
    {
      "cell_type": "code",
      "source": [
        "#9. Generate the series of dates from 1st Jan, 2023 to 10th Feb, 2023\n",
        "date=pd.date_range(start='1/1/2023',end='10/02/2023')\n",
        "print(date)"
      ],
      "metadata": {
        "colab": {
          "base_uri": "https://localhost:8080/"
        },
        "id": "cNcZkTpGRhdY",
        "outputId": "1da82c1b-e623-456d-d00b-c8487b1d9f30"
      },
      "execution_count": 13,
      "outputs": [
        {
          "output_type": "stream",
          "name": "stdout",
          "text": [
            "DatetimeIndex(['2023-01-01', '2023-01-02', '2023-01-03', '2023-01-04',\n",
            "               '2023-01-05', '2023-01-06', '2023-01-07', '2023-01-08',\n",
            "               '2023-01-09', '2023-01-10',\n",
            "               ...\n",
            "               '2023-09-23', '2023-09-24', '2023-09-25', '2023-09-26',\n",
            "               '2023-09-27', '2023-09-28', '2023-09-29', '2023-09-30',\n",
            "               '2023-10-01', '2023-10-02'],\n",
            "              dtype='datetime64[ns]', length=275, freq='D')\n"
          ]
        }
      ]
    },
    {
      "cell_type": "code",
      "source": [
        "#10. Create 2D list to DataFrame\n",
        "lists = [[1, 'aaa', 22], [2, 'bbb', 25], [3, 'ccc', 24]]\n",
        "df=pd.DataFrame(lists,columns=['num','word','number'])\n",
        "print(df)"
      ],
      "metadata": {
        "colab": {
          "base_uri": "https://localhost:8080/"
        },
        "id": "upLdfr26R05j",
        "outputId": "02734986-b862-4c7b-fe60-b0d0f8a580fb"
      },
      "execution_count": 14,
      "outputs": [
        {
          "output_type": "stream",
          "name": "stdout",
          "text": [
            "   num word  number\n",
            "0    1  aaa      22\n",
            "1    2  bbb      25\n",
            "2    3  ccc      24\n"
          ]
        }
      ]
    }
  ]
}